{
  "nbformat": 4,
  "nbformat_minor": 0,
  "metadata": {
    "colab": {
      "name": "step1.ipynb",
      "provenance": [],
      "collapsed_sections": [],
      "include_colab_link": true
    },
    "kernelspec": {
      "name": "python3",
      "display_name": "Python 3"
    }
  },
  "cells": [
    {
      "cell_type": "markdown",
      "metadata": {
        "id": "view-in-github",
        "colab_type": "text"
      },
      "source": [
        "<a href=\"https://colab.research.google.com/github/osugizmo/collaboratory-link-01/blob/master/step1.ipynb\" target=\"_parent\"><img src=\"https://colab.research.google.com/assets/colab-badge.svg\" alt=\"Open In Colab\"/></a>"
      ]
    },
    {
      "cell_type": "code",
      "metadata": {
        "id": "9NNm3bfqJ4aq",
        "colab_type": "code",
        "outputId": "da0b1d95-625a-4840-febf-00dbef41b21b",
        "colab": {
          "base_uri": "https://localhost:8080/",
          "height": 71
        }
      },
      "source": [
        "import numpy as np\n",
        "x = np.array([[1, 2, 3], [4, 5, 6]])\n",
        "print(\"x:\\n{}\".format(x))"
      ],
      "execution_count": 1,
      "outputs": [
        {
          "output_type": "stream",
          "text": [
            "x:\n",
            "[[1 2 3]\n",
            " [4 5 6]]\n"
          ],
          "name": "stdout"
        }
      ]
    },
    {
      "cell_type": "code",
      "metadata": {
        "id": "UkGDrfWfRhhT",
        "colab_type": "code",
        "outputId": "a467d867-7875-4923-db35-f05ae5d6966b",
        "colab": {
          "base_uri": "https://localhost:8080/",
          "height": 107
        }
      },
      "source": [
        "from scipy import sparse\n",
        "\n",
        "# 対角成分が１でそれ以外が０の２次元のNumPy配列を作る\n",
        "eye = np.eye(4)\n",
        "print(\"NumPy array:\\n{}\".format(eye))"
      ],
      "execution_count": 2,
      "outputs": [
        {
          "output_type": "stream",
          "text": [
            "NumPy array:\n",
            "[[1. 0. 0. 0.]\n",
            " [0. 1. 0. 0.]\n",
            " [0. 0. 1. 0.]\n",
            " [0. 0. 0. 1.]]\n"
          ],
          "name": "stdout"
        }
      ]
    },
    {
      "cell_type": "code",
      "metadata": {
        "id": "7dn40VBiTuPK",
        "colab_type": "code",
        "colab": {
          "base_uri": "https://localhost:8080/",
          "height": 125
        },
        "outputId": "04d20610-ef03-454c-dac3-6376ebe4e8cc"
      },
      "source": [
        "# NumPy配列をSciPyのCSR形式の疎行列に変換する(非ゼロ要素だけが格納される)\n",
        "sparse_matrix = sparse.csc_matrix(eye)\n",
        "print(\"\\nSciPy sparse CSR matrix:\\n{}\".format(sparse_matrix))"
      ],
      "execution_count": 5,
      "outputs": [
        {
          "output_type": "stream",
          "text": [
            "\n",
            "SciPy sparse CSR matrix:\n",
            "  (0, 0)\t1.0\n",
            "  (1, 1)\t1.0\n",
            "  (2, 2)\t1.0\n",
            "  (3, 3)\t1.0\n"
          ],
          "name": "stdout"
        }
      ]
    },
    {
      "cell_type": "code",
      "metadata": {
        "id": "R3hIDyDlVf6H",
        "colab_type": "code",
        "colab": {
          "base_uri": "https://localhost:8080/",
          "height": 305
        },
        "outputId": "e9fe876d-89bb-42c2-a7b2-76116d5e4625"
      },
      "source": [
        "data = np.ones(4)\n",
        "row_indices = np.arange(4)\n",
        "col_indices = np.arange(4)\n",
        "print(\"\\ndata:\\n{}\".format(data))\n",
        "print(\"\\nrow\\n{}\".format(row_indices))\n",
        "print(\"\\ncol\\n{}\".format(col_indices))\n",
        "eye_coo = sparse.coo.matrix((data, (row_indices, col_indices)))\n",
        "print(\"\\nCOO representation:\\n{}\".format(eye_coo))"
      ],
      "execution_count": 13,
      "outputs": [
        {
          "output_type": "stream",
          "text": [
            "\n",
            "data:\n",
            "[1. 1. 1. 1.]\n",
            "\n",
            "row\n",
            "[0 1 2 3]\n",
            "\n",
            "col\n",
            "[0 1 2 3]\n",
            "\n",
            "COO representation:\n",
            "[[array([[1.],\n",
            "       [1.],\n",
            "       [1.],\n",
            "       [1.]])\n",
            "  (array([0, 1, 2, 3]), array([0, 1, 2, 3]))]]\n"
          ],
          "name": "stdout"
        }
      ]
    }
  ]
}