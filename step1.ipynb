{
  "nbformat": 4,
  "nbformat_minor": 0,
  "metadata": {
    "colab": {
      "name": "step1.ipynb",
      "provenance": [],
      "collapsed_sections": [],
      "include_colab_link": true
    },
    "kernelspec": {
      "name": "python3",
      "display_name": "Python 3"
    }
  },
  "cells": [
    {
      "cell_type": "markdown",
      "metadata": {
        "id": "view-in-github",
        "colab_type": "text"
      },
      "source": [
        "<a href=\"https://colab.research.google.com/github/osugizmo/collaboratory-link-01/blob/master/step1.ipynb\" target=\"_parent\"><img src=\"https://colab.research.google.com/assets/colab-badge.svg\" alt=\"Open In Colab\"/></a>"
      ]
    },
    {
      "cell_type": "code",
      "metadata": {
        "id": "9NNm3bfqJ4aq",
        "colab_type": "code",
        "outputId": "da2d2f86-b17b-49e3-8b4b-224683733051",
        "colab": {
          "base_uri": "https://localhost:8080/",
          "height": 71
        }
      },
      "source": [
        "### chapter 1.4.2 NumPy\n",
        "import numpy as np\n",
        "x = np.array([[1, 2, 3], [4, 5, 6]])\n",
        "print(\"x:\\n{}\".format(x))"
      ],
      "execution_count": 1,
      "outputs": [
        {
          "output_type": "stream",
          "text": [
            "x:\n",
            "[[1 2 3]\n",
            " [4 5 6]]\n"
          ],
          "name": "stdout"
        }
      ]
    },
    {
      "cell_type": "code",
      "metadata": {
        "id": "UkGDrfWfRhhT",
        "colab_type": "code",
        "outputId": "a70d3197-c607-4420-d6de-87ae50bc07a8",
        "colab": {
          "base_uri": "https://localhost:8080/",
          "height": 107
        }
      },
      "source": [
        "### chapter 1.4.3 SciPy\n",
        "from scipy import sparse\n",
        "\n",
        "# 対角成分が１でそれ以外が０の２次元のNumPy配列を作る\n",
        "eye = np.eye(4)\n",
        "print(\"NumPy array:\\n{}\".format(eye))"
      ],
      "execution_count": 2,
      "outputs": [
        {
          "output_type": "stream",
          "text": [
            "NumPy array:\n",
            "[[1. 0. 0. 0.]\n",
            " [0. 1. 0. 0.]\n",
            " [0. 0. 1. 0.]\n",
            " [0. 0. 0. 1.]]\n"
          ],
          "name": "stdout"
        }
      ]
    },
    {
      "cell_type": "code",
      "metadata": {
        "id": "7dn40VBiTuPK",
        "colab_type": "code",
        "colab": {
          "base_uri": "https://localhost:8080/",
          "height": 125
        },
        "outputId": "e63d7381-5ff8-4ad5-f629-c2ecc6063e48"
      },
      "source": [
        "# NumPy配列をSciPyのCSR形式の疎行列に変換する(非ゼロ要素だけが格納される)\n",
        "sparse_matrix = sparse.csc_matrix(eye)\n",
        "print(\"\\nSciPy sparse CSR matrix:\\n{}\".format(sparse_matrix))"
      ],
      "execution_count": 3,
      "outputs": [
        {
          "output_type": "stream",
          "text": [
            "\n",
            "SciPy sparse CSR matrix:\n",
            "  (0, 0)\t1.0\n",
            "  (1, 1)\t1.0\n",
            "  (2, 2)\t1.0\n",
            "  (3, 3)\t1.0\n"
          ],
          "name": "stdout"
        }
      ]
    },
    {
      "cell_type": "code",
      "metadata": {
        "id": "R3hIDyDlVf6H",
        "colab_type": "code",
        "colab": {
          "base_uri": "https://localhost:8080/",
          "height": 305
        },
        "outputId": "f19a8f77-2c20-4bab-cafc-a20d25f0a27f"
      },
      "source": [
        "data = np.ones(4)\n",
        "row_indices = np.arange(4)\n",
        "col_indices = np.arange(4)\n",
        "print(\"\\ndata:\\n{}\".format(data))\n",
        "print(\"\\nrow\\n{}\".format(row_indices))\n",
        "print(\"\\ncol\\n{}\".format(col_indices))\n",
        "eye_coo = sparse.coo.matrix((data, (row_indices, col_indices)))\n",
        "print(\"\\nCOO representation:\\n{}\".format(eye_coo))"
      ],
      "execution_count": 4,
      "outputs": [
        {
          "output_type": "stream",
          "text": [
            "\n",
            "data:\n",
            "[1. 1. 1. 1.]\n",
            "\n",
            "row\n",
            "[0 1 2 3]\n",
            "\n",
            "col\n",
            "[0 1 2 3]\n",
            "\n",
            "COO representation:\n",
            "[[array([[1.],\n",
            "       [1.],\n",
            "       [1.],\n",
            "       [1.]])\n",
            "  (array([0, 1, 2, 3]), array([0, 1, 2, 3]))]]\n"
          ],
          "name": "stdout"
        }
      ]
    },
    {
      "cell_type": "code",
      "metadata": {
        "id": "KuWaSRpecL8R",
        "colab_type": "code",
        "colab": {
          "base_uri": "https://localhost:8080/",
          "height": 283
        },
        "outputId": "1e47d4d0-ba6f-48ab-c5c3-6eedee268a0b"
      },
      "source": [
        "### chapter 1.4.4 matplotlib\n",
        "%matplotlib inline\n",
        "import matplotlib.pyplot as plt\n",
        "\n",
        "# -10から10までを100ステップに区切った列を配列として生成\n",
        "x = np.linspace(-10, 10, 100)\n",
        "# サイン関数を用いて２つ目の配列を生成\n",
        "y = np.sin(x)\n",
        "# plot関数は一方の配列に対して他方の配列をプロットする\n",
        "plt.plot(x, y,marker=\"x\")"
      ],
      "execution_count": 5,
      "outputs": [
        {
          "output_type": "execute_result",
          "data": {
            "text/plain": [
              "[<matplotlib.lines.Line2D at 0x7f654276f9e8>]"
            ]
          },
          "metadata": {
            "tags": []
          },
          "execution_count": 5
        },
        {
          "output_type": "display_data",
          "data": {
            "image/png": "[encoded data removed]",
            "text/plain": [
              "<Figure size 432x288 with 1 Axes>"
            ]
          },
          "metadata": {
            "tags": []
          }
        }
      ]
    }
  ]
}